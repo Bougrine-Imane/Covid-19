{
 "cells": [
  {
   "cell_type": "markdown",
   "metadata": {},
   "source": [
    "<font size=6>Coronavirus update with statistics and graphs</font>"
   ]
  },
  {
   "cell_type": "markdown",
   "metadata": {},
   "source": [
    "From World Health Organization - On 31 December 2019, WHO was alerted to several cases of pneumonia in Wuhan City, Hubei Province of China. The virus is called <font color='red'>COVID-19</font>.\n",
    "the number of affected people by this virus is in increase.\n",
    "\n",
    "In this tutorial we will try to get acces to coronavirus data from <font size=3>https://datahub.io/core/covid-19/r/time-series-19-covid-combined.csv </font> and we will try to make it easy for as to know the evolution of the virus in each country in the wourld.\n"
   ]
  },
  {
   "cell_type": "markdown",
   "metadata": {},
   "source": [
    "We will start by importing modules that we need"
   ]
  },
  {
   "cell_type": "code",
   "execution_count": 90,
   "metadata": {},
   "outputs": [],
   "source": [
    "from datetime import datetime\n",
    "from ipywidgets import interact_manual, interact,interactive\n",
    "import ipywidgets as ipw\n",
    "import pandas as pd\n",
    "import plotly.graph_objects as graph"
   ]
  },
  {
   "cell_type": "markdown",
   "metadata": {},
   "source": [
    "import data in a dataframe object"
   ]
  },
  {
   "cell_type": "code",
   "execution_count": 4,
   "metadata": {},
   "outputs": [],
   "source": [
    "df=pd.read_csv('https://raw.githubusercontent.com/datasets/covid-19/master/data/time-series-19-covid-combined.csv')"
   ]
  },
  {
   "cell_type": "markdown",
   "metadata": {},
   "source": [
    "we will display <font color='green'>5</font> lines to visualize data"
   ]
  },
  {
   "cell_type": "code",
   "execution_count": 5,
   "metadata": {},
   "outputs": [
    {
     "data": {
      "text/html": [
       "<div>\n",
       "<style scoped>\n",
       "    .dataframe tbody tr th:only-of-type {\n",
       "        vertical-align: middle;\n",
       "    }\n",
       "\n",
       "    .dataframe tbody tr th {\n",
       "        vertical-align: top;\n",
       "    }\n",
       "\n",
       "    .dataframe thead th {\n",
       "        text-align: right;\n",
       "    }\n",
       "</style>\n",
       "<table border=\"1\" class=\"dataframe\">\n",
       "  <thead>\n",
       "    <tr style=\"text-align: right;\">\n",
       "      <th></th>\n",
       "      <th>Date</th>\n",
       "      <th>Country/Region</th>\n",
       "      <th>Province/State</th>\n",
       "      <th>Lat</th>\n",
       "      <th>Long</th>\n",
       "      <th>Confirmed</th>\n",
       "      <th>Recovered</th>\n",
       "      <th>Deaths</th>\n",
       "    </tr>\n",
       "  </thead>\n",
       "  <tbody>\n",
       "    <tr>\n",
       "      <th>0</th>\n",
       "      <td>2020-01-22</td>\n",
       "      <td>Afghanistan</td>\n",
       "      <td>NaN</td>\n",
       "      <td>33.0</td>\n",
       "      <td>65.0</td>\n",
       "      <td>0.0</td>\n",
       "      <td>0.0</td>\n",
       "      <td>0.0</td>\n",
       "    </tr>\n",
       "    <tr>\n",
       "      <th>1</th>\n",
       "      <td>2020-01-23</td>\n",
       "      <td>Afghanistan</td>\n",
       "      <td>NaN</td>\n",
       "      <td>33.0</td>\n",
       "      <td>65.0</td>\n",
       "      <td>0.0</td>\n",
       "      <td>0.0</td>\n",
       "      <td>0.0</td>\n",
       "    </tr>\n",
       "    <tr>\n",
       "      <th>2</th>\n",
       "      <td>2020-01-24</td>\n",
       "      <td>Afghanistan</td>\n",
       "      <td>NaN</td>\n",
       "      <td>33.0</td>\n",
       "      <td>65.0</td>\n",
       "      <td>0.0</td>\n",
       "      <td>0.0</td>\n",
       "      <td>0.0</td>\n",
       "    </tr>\n",
       "    <tr>\n",
       "      <th>3</th>\n",
       "      <td>2020-01-25</td>\n",
       "      <td>Afghanistan</td>\n",
       "      <td>NaN</td>\n",
       "      <td>33.0</td>\n",
       "      <td>65.0</td>\n",
       "      <td>0.0</td>\n",
       "      <td>0.0</td>\n",
       "      <td>0.0</td>\n",
       "    </tr>\n",
       "    <tr>\n",
       "      <th>4</th>\n",
       "      <td>2020-01-26</td>\n",
       "      <td>Afghanistan</td>\n",
       "      <td>NaN</td>\n",
       "      <td>33.0</td>\n",
       "      <td>65.0</td>\n",
       "      <td>0.0</td>\n",
       "      <td>0.0</td>\n",
       "      <td>0.0</td>\n",
       "    </tr>\n",
       "  </tbody>\n",
       "</table>\n",
       "</div>"
      ],
      "text/plain": [
       "         Date Country/Region Province/State   Lat  Long  Confirmed  Recovered  \\\n",
       "0  2020-01-22    Afghanistan            NaN  33.0  65.0        0.0        0.0   \n",
       "1  2020-01-23    Afghanistan            NaN  33.0  65.0        0.0        0.0   \n",
       "2  2020-01-24    Afghanistan            NaN  33.0  65.0        0.0        0.0   \n",
       "3  2020-01-25    Afghanistan            NaN  33.0  65.0        0.0        0.0   \n",
       "4  2020-01-26    Afghanistan            NaN  33.0  65.0        0.0        0.0   \n",
       "\n",
       "   Deaths  \n",
       "0     0.0  \n",
       "1     0.0  \n",
       "2     0.0  \n",
       "3     0.0  \n",
       "4     0.0  "
      ]
     },
     "execution_count": 5,
     "metadata": {},
     "output_type": "execute_result"
    }
   ],
   "source": [
    "df.head()"
   ]
  },
  {
   "cell_type": "markdown",
   "metadata": {},
   "source": [
    "Our data countains date but in a string object , so will transform it to a datetime object in order to plot it thereafter"
   ]
  },
  {
   "cell_type": "code",
   "execution_count": 6,
   "metadata": {},
   "outputs": [],
   "source": [
    "def convert_to_date(value):\n",
    "    return datetime.strptime(value, '%Y-%m-%d')\n",
    "df['Date'] = df['Date'].apply(convert_to_date)"
   ]
  },
  {
   "cell_type": "markdown",
   "metadata": {},
   "source": [
    "then we will group the data by the country"
   ]
  },
  {
   "cell_type": "code",
   "execution_count": 92,
   "metadata": {},
   "outputs": [],
   "source": [
    "def groupDataBycountry(country):\n",
    "    gk=df.groupby('Country/Region')\n",
    "    final_dataset=(gk.get_group(country))[['Date','Confirmed','Recovered','Deaths']]\n",
    "    return final_dataset.set_index('Date')"
   ]
  },
  {
   "cell_type": "markdown",
   "metadata": {},
   "source": [
    "extract from our grouped data the nombre of cases affected , number of deaths and the number of recovered cases of today"
   ]
  },
  {
   "cell_type": "code",
   "execution_count": 94,
   "metadata": {},
   "outputs": [],
   "source": [
    "def extract_last_case(country):\n",
    "    data=groupDataBycountry(country)\n",
    "    d=data.iloc[-1]\n",
    "    return (data.index[-1],d['Confirmed'],d['Recovered'],d['Deaths'])"
   ]
  },
  {
   "cell_type": "markdown",
   "metadata": {},
   "source": [
    "we will define functions that plot the three cases"
   ]
  },
  {
   "cell_type": "code",
   "execution_count": 96,
   "metadata": {},
   "outputs": [],
   "source": [
    "def plot_confirmed_cases(fig,data):\n",
    "    fig.add_trace(graph.Scatter(\n",
    "            x=data.index, y=data.Confirmed ,  name='confirmed',fill=\"tozeroy\",\n",
    "            marker_color='#77b5fe'\n",
    "        ))\n",
    "def plot_recovered_cases(fig,data):\n",
    "    fig.add_trace(graph.Scatter(\n",
    "            x=data.index, y=data.Recovered ,  name='recovered',fill=\"tozeroy\",\n",
    "            marker_color='rgb(63, 226, 101)'\n",
    "        ))\n",
    "def plot_deaths(fig,data):\n",
    "    fig.add_trace(graph.Scatter(\n",
    "            x=data.index, y=data.Deaths ,  name='deaths',fill=\"tozeroy\",\n",
    "            marker_color='rgb(255, 153, 153)'\n",
    "        ))"
   ]
  },
  {
   "cell_type": "markdown",
   "metadata": {},
   "source": [
    "the function bellow will apply the right theme to our graph (Light/Dark)"
   ]
  },
  {
   "cell_type": "code",
   "execution_count": 10,
   "metadata": {},
   "outputs": [],
   "source": [
    "def apply_theme(fig,country,color_theme,font_color):\n",
    "    fig.update_layout({\n",
    "    'plot_bgcolor': color_theme,\n",
    "    'paper_bgcolor': 'rgba(0,0,0,0)',\n",
    "    })\n",
    "    fig.update_layout(\n",
    "        title={\n",
    "        'text': \"COVID-19 Evolution in \"+country,\n",
    "        'y':0.9,\n",
    "        'x':0.5,\n",
    "        'xanchor': 'center',\n",
    "        'yanchor': 'top'},\n",
    "        xaxis_title=\"Date\",\n",
    "        yaxis_title=\"cases\",\n",
    "        legend=dict(\n",
    "            x=0.01,\n",
    "            y=1,\n",
    "            traceorder=\"normal\",\n",
    "            font=dict(\n",
    "                family=\"sans-serif\",\n",
    "                size=12,\n",
    "                color=font_color\n",
    "            ),\n",
    "            bordercolor=color_theme,\n",
    "            borderwidth=1\n",
    "        ))\n",
    "    fig.update_xaxes(showline=True, linewidth=1, linecolor='gray')\n",
    "    fig.update_yaxes(showline=True, linewidth=1, linecolor='gray')"
   ]
  },
  {
   "cell_type": "markdown",
   "metadata": {},
   "source": [
    "the function that plot the graph in function of the country chosen"
   ]
  },
  {
   "cell_type": "code",
   "execution_count": 110,
   "metadata": {},
   "outputs": [],
   "source": [
    "def plot_graph(data,country,confirmed,recovered,deaths,theme):\n",
    "    fig=graph.Figure()\n",
    "    if(confirmed==True):\n",
    "        plot_confirmed_cases(fig,data)\n",
    "    if(recovered==True):\n",
    "        plot_recovered_cases(fig,data)\n",
    "    if(deaths==True):\n",
    "        plot_deaths(fig,data)\n",
    "    if(theme==\"Dark\"):\n",
    "        color_theme=\"rgb(50,50,50)\"\n",
    "        font_color=\"white\"\n",
    "    else:\n",
    "        color_theme=\"rgba(0,0,0,0)\"\n",
    "        font_color=\"black\"\n",
    "    apply_theme(fig,country,color_theme,font_color)\n",
    "    fig.show()"
   ]
  },
  {
   "cell_type": "markdown",
   "metadata": {},
   "source": [
    "then we will define the widgets used"
   ]
  },
  {
   "cell_type": "code",
   "execution_count": 111,
   "metadata": {},
   "outputs": [],
   "source": [
    "dropdown=ipw.Dropdown(options=list(dict.fromkeys(df['Country/Region'].tolist())),description=\"country :\")\n",
    "deaths=ipw.Checkbox( \n",
    "    value=False,\n",
    "    description='Deaths',\n",
    "    disabled=False\n",
    ")\n",
    "recovered=ipw.Checkbox( \n",
    "    value=False,\n",
    "    description='Recovered',\n",
    "    disabled=False\n",
    ")\n",
    "confirmed=ipw.Checkbox( \n",
    "    value=True,\n",
    "    description='Confirmed',\n",
    "    disabled=False\n",
    ")\n",
    "theme=ipw.RadioButtons(\n",
    "    options=['Light', 'Dark'],\n",
    "    description=\"theme :\",\n",
    "    value='Light',\n",
    "    disabled=False\n",
    ")\n",
    "v=extract_last_case(dropdown.value)\n",
    "Title=ipw.HTML(description=\" by BOUGRINE\",value=\"<center><h3><font color='red'>COVID-19</font> Evolution in <font color='blue'>\"+dropdown.value+\"</font></h3></center>\")\n",
    "Title2=ipw.HTML(value=\"<h4><font >\"+str(v[0])+\" </font>  <font color='blue'>Confirmed : </font>\"+str(v[1])+\" <font color='green'>Recovered : </font>\"+str(v[2])+\" <font color='red'>Deaths : </font>\"+str(v[3])+\"</h4>\")"
   ]
  },
  {
   "cell_type": "markdown",
   "metadata": {},
   "source": [
    "execute is the function that call all the other functions written above"
   ]
  },
  {
   "cell_type": "code",
   "execution_count": 112,
   "metadata": {},
   "outputs": [],
   "source": [
    "def execute(country,confirmed,recovered,deaths,theme):\n",
    "    data=groupDataBycountry(country)\n",
    "    v=extract_last_case(country)\n",
    "    global Title\n",
    "    global Title2\n",
    "    Title=ipw.HTML(value=\"<center><h3><font color='red'>COVID-19</font> Evolution in <font color='blue'>\"+country+\"</font></h3></center>\")\n",
    "    Title2=ipw.HTML(value=\"<center><h4><font >\"+str(v[0])+\" </font>  <font color='blue'>Confirmed : </font>\"+str(v[1])+\" <font color='green'>Recovered : </font>\"+str(v[2])+\" <font color='red'>Deaths : </font>\"+str(v[3])+\"</h4></center>\")\n",
    "    display(Title,Title2)\n",
    "    return plot_graph(data,country,confirmed,recovered,deaths,theme)"
   ]
  },
  {
   "cell_type": "markdown",
   "metadata": {},
   "source": [
    "and finally we write the function wich will be called whenever we interact with the widgets"
   ]
  },
  {
   "cell_type": "code",
   "execution_count": 122,
   "metadata": {},
   "outputs": [
    {
     "data": {
      "application/vnd.jupyter.widget-view+json": {
       "model_id": "b039f124ea7d405d8f1984ee7e955412",
       "version_major": 2,
       "version_minor": 0
      },
      "text/plain": [
       "HTML(value=\"<center><h2>Choose <font color='REd'>the country</font> ,<font color='Blue'>the cases</font> you w…"
      ]
     },
     "metadata": {},
     "output_type": "display_data"
    },
    {
     "data": {
      "application/vnd.jupyter.widget-view+json": {
       "model_id": "ed573434e8e349f693a148718ab479ca",
       "version_major": 2,
       "version_minor": 0
      },
      "text/plain": [
       "interactive(children=(Dropdown(description='country :', options=('Afghanistan', 'Albania', 'Algeria', 'Andorra…"
      ]
     },
     "metadata": {},
     "output_type": "display_data"
    }
   ],
   "source": [
    "display(ipw.HTML(value=\"<center><h2>Choose <font color='REd'>the country</font> ,<font color='Blue'>the cases</font> you want to see and <font color='Green'>the theme</font> mode</h2></center>\"))\n",
    "def final(a,b,c,d,e):\n",
    "    execute(dropdown.value,confirmed.value,recovered.value,deaths.value,theme.value)\n",
    "w=interactive(final,a=dropdown,b=deaths,c=recovered,d=confirmed,e=theme)\n",
    "display(w)"
   ]
  },
  {
   "cell_type": "code",
   "execution_count": null,
   "metadata": {},
   "outputs": [],
   "source": []
  }
 ],
 "metadata": {
  "kernelspec": {
   "display_name": "Python 3",
   "language": "python",
   "name": "python3"
  },
  "language_info": {
   "codemirror_mode": {
    "name": "ipython",
    "version": 3
   },
   "file_extension": ".py",
   "mimetype": "text/x-python",
   "name": "python",
   "nbconvert_exporter": "python",
   "pygments_lexer": "ipython3",
   "version": "3.7.7"
  }
 },
 "nbformat": 4,
 "nbformat_minor": 2
}
